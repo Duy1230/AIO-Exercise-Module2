{
 "cells": [
  {
   "cell_type": "code",
   "execution_count": 1,
   "metadata": {},
   "outputs": [],
   "source": [
    "import numpy as np"
   ]
  },
  {
   "cell_type": "code",
   "execution_count": 2,
   "metadata": {},
   "outputs": [
    {
     "data": {
      "text/plain": [
       "array([0, 1, 2, 3, 4, 5, 6, 7, 8, 9])"
      ]
     },
     "execution_count": 2,
     "metadata": {},
     "output_type": "execute_result"
    }
   ],
   "source": [
    "#Câu hỏi 1: Câu nào sau đây là đúng để tạo mảng 1 chiều từ 0 đến 9\n",
    "arr = np.arange(0 , 10 , 1)\n",
    "arr"
   ]
  },
  {
   "cell_type": "code",
   "execution_count": 5,
   "metadata": {},
   "outputs": [
    {
     "data": {
      "text/plain": [
       "(array([[ True,  True,  True],\n",
       "        [ True,  True,  True],\n",
       "        [ True,  True,  True]]),\n",
       " array([[ True,  True,  True],\n",
       "        [ True,  True,  True],\n",
       "        [ True,  True,  True]]),\n",
       " array([[ True,  True,  True],\n",
       "        [ True,  True,  True],\n",
       "        [ True,  True,  True]]))"
      ]
     },
     "execution_count": 5,
     "metadata": {},
     "output_type": "execute_result"
    }
   ],
   "source": [
    "#Câu hỏi 2: Cách tạo một mảng boolean 3x3 với tất cả giá trị là True\n",
    "arr = np.ones((3,3)) > 0\n",
    "arr_1 = np.ones((3,3), dtype=bool)\n",
    "arr_2 = np.full((3,3), fill_value=True, dtype=bool)\n",
    "arr, arr_1, arr_2"
   ]
  },
  {
   "cell_type": "code",
   "execution_count": 6,
   "metadata": {},
   "outputs": [
    {
     "name": "stdout",
     "output_type": "stream",
     "text": [
      "[1 3 5 7 9]\n"
     ]
    }
   ],
   "source": [
    "#Câu hỏi 3: Kết quả của đoạn code sau đây:\n",
    "arr = np.arange(0,10)\n",
    "print(arr[arr%2==1])\n"
   ]
  },
  {
   "cell_type": "code",
   "execution_count": 7,
   "metadata": {},
   "outputs": [
    {
     "name": "stdout",
     "output_type": "stream",
     "text": [
      "[ 0 -1  2 -1  4 -1  6 -1  8 -1]\n"
     ]
    }
   ],
   "source": [
    "#Câu hỏi 4: Kết quả của đoạn code sau đây:\n",
    "arr = np.arange(0,10)\n",
    "arr[arr % 2 == 1] = -1\n",
    "print(arr)"
   ]
  },
  {
   "cell_type": "code",
   "execution_count": 9,
   "metadata": {},
   "outputs": [
    {
     "name": "stdout",
     "output_type": "stream",
     "text": [
      "[[0 1 2 3 4]\n",
      " [5 6 7 8 9]]\n"
     ]
    }
   ],
   "source": [
    "#Câu hỏi 5: Kết quả của đoạn code sau đây:\n",
    "arr = np.arange(0,10)\n",
    "arr_2d = arr.reshape(2,-1)\n",
    "print(arr_2d)\n"
   ]
  },
  {
   "cell_type": "code",
   "execution_count": 10,
   "metadata": {},
   "outputs": [
    {
     "name": "stdout",
     "output_type": "stream",
     "text": [
      "Result: \n",
      " [[0 1 2 3 4]\n",
      " [5 6 7 8 9]\n",
      " [1 1 1 1 1]\n",
      " [1 1 1 1 1]]\n"
     ]
    }
   ],
   "source": [
    "#Câu hỏi 6: Kết quả của đoạn code sau đây:\n",
    "arr1 = np.arange(10).reshape (2 , -1)\n",
    "arr2 = np.repeat(1 ,10).reshape(2 , -1)\n",
    "c = np.concatenate([arr1 ,arr2] ,axis =0)\n",
    "print(\"Result: \\n\" ,c )"
   ]
  },
  {
   "cell_type": "code",
   "execution_count": 11,
   "metadata": {},
   "outputs": [
    {
     "name": "stdout",
     "output_type": "stream",
     "text": [
      "Result: \n",
      " [[0 1 2 3 4 1 1 1 1 1]\n",
      " [5 6 7 8 9 1 1 1 1 1]]\n"
     ]
    }
   ],
   "source": [
    "#Câu hỏi 7: Kết quả của đoạn code sau đây:\n",
    "arr1 = np.arange(10).reshape (2 , -1)\n",
    "arr2 = np.repeat(1 ,10).reshape(2 , -1)\n",
    "c = np.concatenate([arr1 ,arr2] ,axis =1)\n",
    "print(\"Result: \\n\" ,c )"
   ]
  },
  {
   "cell_type": "code",
   "execution_count": 12,
   "metadata": {},
   "outputs": [
    {
     "name": "stdout",
     "output_type": "stream",
     "text": [
      "[1 1 1 2 2 2 3 3 3]\n",
      "[1 2 3 1 2 3 1 2 3]\n"
     ]
    }
   ],
   "source": [
    "#Câu hỏi 8: Kết quả của đoạn code sau đây:\n",
    "arr = np.array([1,2,3])\n",
    "print(np.repeat(arr,3))\n",
    "print(np.tile(arr,3))"
   ]
  },
  {
   "cell_type": "code",
   "execution_count": 18,
   "metadata": {},
   "outputs": [
    {
     "name": "stdout",
     "output_type": "stream",
     "text": [
      "result [ 6  9 10]\n"
     ]
    }
   ],
   "source": [
    "#Câu hỏi 9: Kết quả của đoạn code sau đây:\n",
    "a = np.array([2, 6, 1, 9,10, 3, 27])\n",
    "index = np.nonzero((a>=5) & (a<=10))\n",
    "print('result', a[index])"
   ]
  },
  {
   "cell_type": "code",
   "execution_count": 19,
   "metadata": {},
   "outputs": [
    {
     "name": "stdout",
     "output_type": "stream",
     "text": [
      "[6. 7. 9. 8. 9. 7. 5.]\n"
     ]
    }
   ],
   "source": [
    "#Câu hỏi 10: Kết quả của đoạn code sau đây:\n",
    "def maxx (x , y ) :\n",
    "    if x >= y :\n",
    "        return x\n",
    "    else :\n",
    "        return y\n",
    "\n",
    "a = np.array([5 ,7 ,9 ,8 ,6 ,4 ,5])\n",
    "b = np.array([6 ,3 ,4 ,8 ,9 ,7 ,1])\n",
    "\n",
    "pair_max = np.vectorize(maxx ,otypes =[float])\n",
    "print(pair_max(a , b))"
   ]
  },
  {
   "cell_type": "code",
   "execution_count": 20,
   "metadata": {},
   "outputs": [
    {
     "name": "stdout",
     "output_type": "stream",
     "text": [
      "Result:  [6 7 9 8 9 7 5]\n"
     ]
    }
   ],
   "source": [
    "#Câu hỏi 11: Kết quả của đoạn code sau đây:\n",
    "a = np.array([5 ,7 ,9 ,8 ,6 ,4 ,5])\n",
    "b = np.array([6 ,3 ,4 ,8 ,9 ,7 ,1])\n",
    "\n",
    "print('Result: ', np.where(a<b, b, a))"
   ]
  }
 ],
 "metadata": {
  "kernelspec": {
   "display_name": "Python 3",
   "language": "python",
   "name": "python3"
  },
  "language_info": {
   "codemirror_mode": {
    "name": "ipython",
    "version": 3
   },
   "file_extension": ".py",
   "mimetype": "text/x-python",
   "name": "python",
   "nbconvert_exporter": "python",
   "pygments_lexer": "ipython3",
   "version": "3.12.2"
  }
 },
 "nbformat": 4,
 "nbformat_minor": 2
}
