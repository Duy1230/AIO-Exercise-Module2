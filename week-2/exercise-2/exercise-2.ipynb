{
  "cells": [
    {
      "cell_type": "code",
      "execution_count": 1,
      "metadata": {
        "id": "c0-q3Cu_eLby"
      },
      "outputs": [],
      "source": [
        "import numpy as np"
      ]
    },
    {
      "cell_type": "markdown",
      "metadata": {
        "id": "7XHnBMAReM8C"
      },
      "source": [
        "# Eigenvalue and Eigenvector Calculation\n",
        "\n",
        "Cho ma trận A:\n",
        "\n",
        "```python\n",
        "A = np.array([[0.9, 0.2],\n",
        "              [0.1, 0.8]])\n",
        "```\n",
        "\n",
        "## Step 1: Tính Eigenvalues\n",
        "\n",
        "\n",
        "Giải phương trình det(A − λI) = 0\n",
        "\n",
        "```\n",
        "| 0.9 - λ    0.2    |\n",
        "|   0.1    0.8 - λ  | = 0\n",
        "```\n",
        "\n",
        "Khai triển định thức:\n",
        "\n",
        "(0.9 - λ)(0.8 - λ) - 0.2 * 0.1 = 0\n",
        "\n",
        "λ² - 1.7λ + 0.7 = 0\n",
        "\n",
        "Giải phương trình bậc 2 ta được\n",
        "\n",
        "λ₁ = 1\n",
        "λ₂ = 0.7\n",
        "\n",
        "## Step 2: Tính Eigenvectors\n",
        "\n",
        "Ứng với mỗi eigenvalue λ, ta cần giải phương trình sau:\n",
        "\n",
        "(A − λI)v = 0\n",
        "\n",
        "### Với λ₁ = 1:\n",
        "\n",
        "```\n",
        "| -0.1   0.2 | | v₁ |   | 0 |\n",
        "|  0.1  -0.2 | | v₂ | = | 0 |\n",
        "```\n",
        "\n",
        "Ta được hệ phương trình:\n",
        "```\n",
        "-0.1v₁ + 0.2v₂ = 0\n",
        "0.1v₁ - 0.2v₂ = 0\n",
        "```\n",
        "\n",
        "Giải hệ phương trình ta thu được v₁ = 2 and v₂ = 1.\n",
        "\n",
        "### Với λ₂ = 0.7:\n",
        "\n",
        "```\n",
        "| 0.2   0.2 | | v₁ |   | 0 |\n",
        "| 0.1   0.1 | | v₂ | = | 0 |\n",
        "```\n",
        "\n",
        "Ta được hệ phương trình:\n",
        "```\n",
        "0.2v₁ + 0.2v₂ = 0\n",
        "0.1v₁ + 0.1v₂ = 0\n",
        "```\n",
        "\n",
        "Giải hệ phương trình ta thu được v₁ = -1 and v₂ = 1.\n",
        "\n",
        "## Step 3: Chuẩn hoá Eigenvectors\n",
        "\n",
        "### Với λ₁ = 1:\n",
        "v₁ = [2, 1]\n",
        "Chuẩn hoá v₁ = [2/√5, 1/√5] ≈ [0.8944, 0.4472]\n",
        "\n",
        "### Với λ₂ = 0.7:\n",
        "v₂ = [-1, 1]\n",
        "Chuẩn hoá v₂ = [-1/√2, 1/√2] ≈ [-0.7071, 0.7071]\n",
        "\n",
        "## Kết quả\n",
        "\n",
        "Eigenvalues:\n",
        "λ₁ = 1\n",
        "λ₂ = 0.7\n",
        "\n",
        "Eigenvectors:\n",
        "v₁ ≈ [0.8944, 0.4472]\n",
        "v₂ ≈ [-0.7071, 0.7071]"
      ]
    },
    {
      "cell_type": "code",
      "execution_count": 46,
      "metadata": {
        "id": "BH1ja16teLb7"
      },
      "outputs": [],
      "source": [
        "def compute_eigenvalues_eigenvectors(matrix):\n",
        "    eigenvalues, eigenvectors = np.linalg.eig(matrix)\n",
        "    return eigenvalues, eigenvectors.T"
      ]
    },
    {
      "cell_type": "code",
      "execution_count": 47,
      "metadata": {
        "colab": {
          "base_uri": "https://localhost:8080/"
        },
        "id": "dVu7qPGCjWT1",
        "outputId": "ce118602-f621-43a6-a00d-c021f57a225d"
      },
      "outputs": [
        {
          "name": "stdout",
          "output_type": "stream",
          "text": [
            "Eigenvalues: [1.  0.7]\n",
            "Eigenvectors: [[ 0.89442719  0.4472136 ]\n",
            " [-0.70710678  0.70710678]]\n"
          ]
        }
      ],
      "source": [
        "eigenvalues, eigenvectors = compute_eigenvalues_eigenvectors(np.array([[0.9, 0.2], [0.1, 0.8]]))\n",
        "print(\"Eigenvalues:\", eigenvalues)\n",
        "print(\"Eigenvectors:\", eigenvectors)"
      ]
    }
  ],
  "metadata": {
    "colab": {
      "provenance": []
    },
    "kernelspec": {
      "display_name": "Python 3",
      "language": "python",
      "name": "python3"
    },
    "language_info": {
      "codemirror_mode": {
        "name": "ipython",
        "version": 3
      },
      "file_extension": ".py",
      "mimetype": "text/x-python",
      "name": "python",
      "nbconvert_exporter": "python",
      "pygments_lexer": "ipython3",
      "version": "3.12.2"
    }
  },
  "nbformat": 4,
  "nbformat_minor": 0
}
