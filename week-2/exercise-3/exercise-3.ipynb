{
  "cells": [
    {
      "cell_type": "markdown",
      "metadata": {
        "id": "lxcGVC53nPTR"
      },
      "source": [
        "# Tính Độ Tương Đồng Cosine giữa Hai Vector\n",
        "\n",
        "Cho hai vector:\n",
        "- x = [1, 2, 3, 4]\n",
        "- y = [1, 0, 3, 0]\n",
        "\n",
        "## Công thức độ tương đồng Cosine:\n",
        "\n",
        "$$\\text{cosine similarity} = \\frac{\\mathbf{x} \\cdot \\mathbf{y}}{\\|\\mathbf{x}\\| \\|\\mathbf{y}\\|} = \\frac{\\sum_{i=1}^n x_i y_i}{\\sqrt{\\sum_{i=1}^n x_i^2} \\sqrt{\\sum_{i=1}^n y_i^2}}$$\n",
        "\n",
        "## Các bước tính toán:\n",
        "\n",
        "1. Tính tích vô hướng $\\mathbf{x} \\cdot \\mathbf{y}$:\n",
        "   * $\\mathbf{x} \\cdot \\mathbf{y} = (1 \\times 1) + (2 \\times 0) + (3 \\times 3) + (4 \\times 0) = 1 + 0 + 9 + 0 = 10$\n",
        "\n",
        "2. Tính độ dài của $\\mathbf{x}$:\n",
        "   * $\\|\\mathbf{x}\\| = \\sqrt{1^2 + 2^2 + 3^2 + 4^2} = \\sqrt{1 + 4 + 9 + 16} = \\sqrt{30} \\approx 5.4772$\n",
        "\n",
        "3. Tính độ dài của $\\mathbf{y}$:\n",
        "   * $\\|\\mathbf{y}\\| = \\sqrt{1^2 + 0^2 + 3^2 + 0^2} = \\sqrt{1 + 0 + 9 + 0} = \\sqrt{10} \\approx 3.1623$\n",
        "\n",
        "4. Tính mẫu số:\n",
        "   * $\\|\\mathbf{x}\\| \\|\\mathbf{y}\\| \\approx 5.4772 \\times 3.1623 \\approx 17.3205$\n",
        "\n",
        "5. Tính độ tương đồng Cosine:\n",
        "   * $\\text{cosine similarity} = \\frac{10}{17.3205} \\approx 0.5774$\n",
        "\n",
        "## Kết quả:\n",
        "\n",
        "Độ tương đồng Cosine giữa x và y là xấp xỉ 0.5774."
      ]
    },
    {
      "cell_type": "code",
      "execution_count": 1,
      "metadata": {
        "id": "1rb-zj0xnUAJ"
      },
      "outputs": [],
      "source": [
        "import numpy as np\n",
        "\n",
        "def cosine_similarity(x, y):\n",
        "  if len(x) != len(y):\n",
        "    return -1\n",
        "  dot_product = np.dot(x, y)\n",
        "  norm_x = np.linalg.norm(x)\n",
        "  norm_y = np.linalg.norm(y)\n",
        "  return dot_product / (norm_x * norm_y)"
      ]
    },
    {
      "cell_type": "code",
      "execution_count": 2,
      "metadata": {
        "colab": {
          "base_uri": "https://localhost:8080/"
        },
        "id": "HDQM3ZNJoaIQ",
        "outputId": "de67c56e-eec6-4527-a21b-0bddb2caa778"
      },
      "outputs": [
        {
          "name": "stdout",
          "output_type": "stream",
          "text": [
            "Độ tương đồng cosine là: 0.5773502691896257\n"
          ]
        }
      ],
      "source": [
        "x = np.array([1, 2, 3, 4])\n",
        "y = np.array([1, 0, 3, 0])\n",
        "print(f\"Độ tương đồng cosine là: {cosine_similarity(x,y)}\")"
      ]
    }
  ],
  "metadata": {
    "colab": {
      "provenance": []
    },
    "kernelspec": {
      "display_name": "Python 3",
      "name": "python3"
    },
    "language_info": {
      "codemirror_mode": {
        "name": "ipython",
        "version": 3
      },
      "file_extension": ".py",
      "mimetype": "text/x-python",
      "name": "python",
      "nbconvert_exporter": "python",
      "pygments_lexer": "ipython3",
      "version": "3.12.2"
    }
  },
  "nbformat": 4,
  "nbformat_minor": 0
}
