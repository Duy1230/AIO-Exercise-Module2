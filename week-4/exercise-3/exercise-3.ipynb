{
  "cells": [
    {
      "cell_type": "code",
      "execution_count": 16,
      "metadata": {
        "colab": {
          "base_uri": "https://localhost:8080/"
        },
        "id": "7CBDwLTurAv7",
        "outputId": "68b0c760-8e67-49f1-81f9-69b2f39484fe"
      },
      "outputs": [
        {
          "name": "stdout",
          "output_type": "stream",
          "text": [
            "Downloading...\n",
            "From: https://drive.google.com/uc?id=1jh2p2DlaWsDo_vEWIcTrNh3mUuXd-cw6\n",
            "To: /content/vi_text_retrieval.csv\n",
            "\r  0% 0.00/201k [00:00<?, ?B/s]\r100% 201k/201k [00:00<00:00, 62.2MB/s]\n"
          ]
        }
      ],
      "source": [
        "! gdown 1jh2p2DlaWsDo_vEWIcTrNh3mUuXd-cw6"
      ]
    },
    {
      "cell_type": "code",
      "execution_count": 18,
      "metadata": {
        "id": "nLA69DEdu8Ie"
      },
      "outputs": [],
      "source": [
        "import numpy as np\n",
        "import pandas as pd\n",
        "from sklearn.metrics.pairwise import cosine_similarity\n",
        "from sklearn.feature_extraction.text import TfidfVectorizer"
      ]
    },
    {
      "cell_type": "code",
      "execution_count": 34,
      "metadata": {
        "colab": {
          "base_uri": "https://localhost:8080/"
        },
        "id": "sTq7ua6ZvR4D",
        "outputId": "72f2c2c5-59fd-4b20-ede0-ceece71e438c"
      },
      "outputs": [
        {
          "data": {
            "text/plain": [
              "0.31126580760710637"
            ]
          },
          "execution_count": 34,
          "metadata": {},
          "output_type": "execute_result"
        }
      ],
      "source": [
        "#Exercise 10\n",
        "vi_data_df = pd.read_csv('./vi_text_retrieval.csv')\n",
        "context = vi_data_df['text']\n",
        "context = [doc.lower() for doc in context]\n",
        "\n",
        "tfidf_vectorizer = TfidfVectorizer()\n",
        "context_embedded = tfidf_vectorizer.fit_transform(context)\n",
        "context_embedded.toarray()[7][0]\n",
        "\n"
      ]
    },
    {
      "cell_type": "code",
      "execution_count": 38,
      "metadata": {
        "colab": {
          "base_uri": "https://localhost:8080/"
        },
        "id": "V19QL3iFvmHq",
        "outputId": "37f27ad5-0e2e-4960-9265-7987ace98a6b"
      },
      "outputs": [
        {
          "data": {
            "text/plain": [
              "0.6279910475266974"
            ]
          },
          "execution_count": 38,
          "metadata": {},
          "output_type": "execute_result"
        }
      ],
      "source": [
        "#Exercise 11\n",
        "def tfidf_search(question, tfidf_vectorizer, top_d = 5):\n",
        "  query_embedded = tfidf_vectorizer.transform([question.lower()])\n",
        "  cosine_sim = cosine_similarity(query_embedded, context_embedded)\n",
        "\n",
        "  result = []\n",
        "  for idx in cosine_sim.argsort()[0][-top_d:][::-1]:\n",
        "    doc_score = {\n",
        "        'id': idx,\n",
        "        'cosine_score': cosine_sim[0][idx]\n",
        "    }\n",
        "    result.append(doc_score)\n",
        "  return result\n",
        "\n",
        "question = vi_data_df.iloc[0]['question']\n",
        "result = tfidf_search(question, tfidf_vectorizer)\n",
        "result[0][\"cosine_score\"]"
      ]
    },
    {
      "cell_type": "code",
      "execution_count": 42,
      "metadata": {
        "colab": {
          "base_uri": "https://localhost:8080/"
        },
        "id": "ZkB7IkdfyrFo",
        "outputId": "bc04a3db-9d99-4915-c67e-9fe2735f2a93"
      },
      "outputs": [
        {
          "data": {
            "text/plain": [
              "0.20734246471973258"
            ]
          },
          "execution_count": 42,
          "metadata": {},
          "output_type": "execute_result"
        }
      ],
      "source": [
        "def corr_search(question, tfidf_vectorizer ,top_d = 5):\n",
        "  query_embedded = tfidf_vectorizer.transform([question.lower()])\n",
        "  corr_sim = np.corrcoef(query_embedded.toarray(), context_embedded.toarray())\n",
        "  corr_sim = corr_sim[0][1:]\n",
        "  result = []\n",
        "  for idx in corr_sim.argsort()[-top_d:][::-1]:\n",
        "    doc_score = {\n",
        "        'id': idx,\n",
        "        'corr_score': corr_sim[idx]\n",
        "    }\n",
        "    result.append(doc_score)\n",
        "\n",
        "  return result\n",
        "\n",
        "question = vi_data_df.iloc[0]['question']\n",
        "result = corr_search(question, tfidf_vectorizer)\n",
        "result[1]['corr_score']"
      ]
    }
  ],
  "metadata": {
    "colab": {
      "provenance": []
    },
    "kernelspec": {
      "display_name": "Python 3",
      "name": "python3"
    },
    "language_info": {
      "name": "python"
    }
  },
  "nbformat": 4,
  "nbformat_minor": 0
}
